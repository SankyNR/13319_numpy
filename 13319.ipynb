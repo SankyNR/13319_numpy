{
 "cells": [
  {
   "cell_type": "code",
   "execution_count": 1,
   "id": "199508fe",
   "metadata": {},
   "outputs": [
    {
     "data": {
      "text/plain": [
       "20"
      ]
     },
     "execution_count": 1,
     "metadata": {},
     "output_type": "execute_result"
    }
   ],
   "source": [
    "import numpy as np\n",
    "#initailize the array\n",
    "a= np.array([\n",
    "    [100,200,150,300], #product1\n",
    "    [50,60,40,80],     #product2\n",
    "    [300,400,350,500], #product3\n",
    "    [200,250,220,270], #product4\n",
    "    [80,90,70,100]     #product5\n",
    "])\n",
    "a.size"
   ]
  },
  {
   "cell_type": "code",
   "execution_count": 2,
   "id": "ff839d69",
   "metadata": {},
   "outputs": [
    {
     "data": {
      "text/plain": [
       "dtype('int32')"
      ]
     },
     "execution_count": 2,
     "metadata": {},
     "output_type": "execute_result"
    }
   ],
   "source": [
    "a= np.array([\n",
    "    [100,200,150,300], #product1\n",
    "    [50,60,40,80],     #product2\n",
    "    [300,400,350,500], #product3\n",
    "    [200,250,220,270], #product4\n",
    "    [80,90,70,100]     #product5\n",
    "])\n",
    "a.dtype"
   ]
  },
  {
   "cell_type": "code",
   "execution_count": 3,
   "id": "03f52b96",
   "metadata": {},
   "outputs": [
    {
     "data": {
      "text/plain": [
       "4"
      ]
     },
     "execution_count": 3,
     "metadata": {},
     "output_type": "execute_result"
    }
   ],
   "source": [
    "a= np.array([\n",
    "    [100,200,150,300], #product1\n",
    "    [50,60,40,80],     #product2\n",
    "    [300,400,350,500], #product3\n",
    "    [200,250,220,270], #product4\n",
    "    [80,90,70,100]     #product5\n",
    "])\n",
    "a.itemsize"
   ]
  },
  {
   "cell_type": "code",
   "execution_count": 4,
   "id": "34d33fa5",
   "metadata": {},
   "outputs": [
    {
     "data": {
      "text/plain": [
       "3810"
      ]
     },
     "execution_count": 4,
     "metadata": {},
     "output_type": "execute_result"
    }
   ],
   "source": [
    "a= np.array([\n",
    "    [100,200,150,300], #product1\n",
    "    [50,60,40,80],     #product2\n",
    "    [300,400,350,500], #product3\n",
    "    [200,250,220,270], #product4\n",
    "    [80,90,70,100]     #product5\n",
    "])\n",
    "a.sum()"
   ]
  },
  {
   "cell_type": "code",
   "execution_count": 5,
   "id": "735fb4e4",
   "metadata": {},
   "outputs": [
    {
     "name": "stdout",
     "output_type": "stream",
     "text": [
      "[[100 200 150 300]\n",
      " [ 50  60  40  80]\n",
      " [290 390 340 490]\n",
      " [200 250 220 270]\n",
      " [ 80  90  70 100]]\n"
     ]
    }
   ],
   "source": [
    "a= np.array([\n",
    "    [100,200,150,300], #product1\n",
    "    [50,60,40,80],     #product2\n",
    "    [300,400,350,500], #product3\n",
    "    [200,250,220,270], #product4\n",
    "    [80,90,70,100]     #product5\n",
    "])\n",
    "a[2]-=10\n",
    "print(a)"
   ]
  },
  {
   "cell_type": "code",
   "execution_count": 6,
   "id": "16b13e61",
   "metadata": {},
   "outputs": [
    {
     "name": "stdout",
     "output_type": "stream",
     "text": [
      "[[120 220 170 320]\n",
      " [ 70  80  60 100]\n",
      " [320 420 370 520]\n",
      " [220 270 240 290]\n",
      " [100 110  90 120]]\n"
     ]
    }
   ],
   "source": [
    "a= np.array([\n",
    "    [100,200,150,300], #product1\n",
    "    [50,60,40,80],     #product2\n",
    "    [300,400,350,500], #product3\n",
    "    [200,250,220,270], #product4\n",
    "    [80,90,70,100]     #product5\n",
    "])\n",
    "a+=20\n",
    "print(a)"
   ]
  },
  {
   "cell_type": "code",
   "execution_count": 7,
   "id": "c136ee77",
   "metadata": {},
   "outputs": [
    {
     "name": "stdout",
     "output_type": "stream",
     "text": [
      "[[100 400 150 300]\n",
      " [ 50 120  40  80]\n",
      " [300 800 350 500]\n",
      " [200 500 220 270]\n",
      " [ 80 180  70 100]]\n"
     ]
    }
   ],
   "source": [
    "a= np.array([\n",
    "    [100,200,150,300], #product1\n",
    "    [50,60,40,80],     #product2\n",
    "    [300,400,350,500], #product3\n",
    "    [200,250,220,270], #product4\n",
    "    [80,90,70,100]     #product5\n",
    "])\n",
    "a[0:6,1]*=2\n",
    "print(a)"
   ]
  },
  {
   "cell_type": "code",
   "execution_count": 8,
   "id": "d0fa7490",
   "metadata": {},
   "outputs": [
    {
     "data": {
      "text/plain": [
       "array([ 730, 1000,  830, 1250])"
      ]
     },
     "execution_count": 8,
     "metadata": {},
     "output_type": "execute_result"
    }
   ],
   "source": [
    "a= np.array([\n",
    "    [100,200,150,300], #product1\n",
    "    [50,60,40,80],     #product2\n",
    "    [300,400,350,500], #product3\n",
    "    [200,250,220,270], #product4\n",
    "    [80,90,70,100]     #product5\n",
    "])\n",
    "np.sum(a,axis=0)"
   ]
  },
  {
   "cell_type": "code",
   "execution_count": 9,
   "id": "a5514163",
   "metadata": {},
   "outputs": [
    {
     "data": {
      "text/plain": [
       "array([ 750,  230, 1550,  940,  340])"
      ]
     },
     "execution_count": 9,
     "metadata": {},
     "output_type": "execute_result"
    }
   ],
   "source": [
    "a= np.array([\n",
    "    [100,200,150,300], #product1\n",
    "    [50,60,40,80],     #product2\n",
    "    [300,400,350,500], #product3\n",
    "    [200,250,220,270], #product4\n",
    "    [80,90,70,100]     #product5\n",
    "])\n",
    "np.sum(a,axis=1)"
   ]
  },
  {
   "cell_type": "code",
   "execution_count": 10,
   "id": "f0daa832",
   "metadata": {},
   "outputs": [
    {
     "data": {
      "text/plain": [
       "array([100,  40, 300, 200,  70])"
      ]
     },
     "execution_count": 10,
     "metadata": {},
     "output_type": "execute_result"
    }
   ],
   "source": [
    "a= np.array([\n",
    "    [100,200,150,300], #product1\n",
    "    [50,60,40,80],     #product2\n",
    "    [300,400,350,500], #product3\n",
    "    [200,250,220,270], #product4\n",
    "    [80,90,70,100]     #product5\n",
    "])\n",
    "np.min(a,axis=1)"
   ]
  },
  {
   "cell_type": "code",
   "execution_count": 11,
   "id": "416d9f0f",
   "metadata": {},
   "outputs": [
    {
     "data": {
      "text/plain": [
       "array([300, 400, 350, 500])"
      ]
     },
     "execution_count": 11,
     "metadata": {},
     "output_type": "execute_result"
    }
   ],
   "source": [
    "a= np.array([\n",
    "    [100,200,150,300], #product1\n",
    "    [50,60,40,80],     #product2\n",
    "    [300,400,350,500], #product3\n",
    "    [200,250,220,270], #product4\n",
    "    [80,90,70,100]     #product5\n",
    "])\n",
    "np.max(a,axis=0)"
   ]
  },
  {
   "cell_type": "code",
   "execution_count": 12,
   "id": "3e33d113",
   "metadata": {},
   "outputs": [
    {
     "data": {
      "text/plain": [
       "array([187.5,  57.5, 387.5, 235. ,  85. ])"
      ]
     },
     "execution_count": 12,
     "metadata": {},
     "output_type": "execute_result"
    }
   ],
   "source": [
    "a= np.array([\n",
    "    [100,200,150,300], #product1\n",
    "    [50,60,40,80],     #product2\n",
    "    [300,400,350,500], #product3\n",
    "    [200,250,220,270], #product4\n",
    "    [80,90,70,100]     #product5\n",
    "])\n",
    "np.mean(a,axis=1)"
   ]
  },
  {
   "cell_type": "code",
   "execution_count": 13,
   "id": "73f836b6",
   "metadata": {},
   "outputs": [
    {
     "data": {
      "text/plain": [
       "array([50, 60, 40, 80])"
      ]
     },
     "execution_count": 13,
     "metadata": {},
     "output_type": "execute_result"
    }
   ],
   "source": [
    "a= np.array([\n",
    "    [100,200,150,300], #product1\n",
    "    [50,60,40,80],     #product2\n",
    "    [300,400,350,500], #product3\n",
    "    [200,250,220,270], #product4\n",
    "    [80,90,70,100]     #product5\n",
    "])\n",
    "a[1]"
   ]
  },
  {
   "cell_type": "code",
   "execution_count": 14,
   "id": "c04aec32",
   "metadata": {},
   "outputs": [
    {
     "data": {
      "text/plain": [
       "array([300,  80, 500, 270, 100])"
      ]
     },
     "execution_count": 14,
     "metadata": {},
     "output_type": "execute_result"
    }
   ],
   "source": [
    "a= np.array([\n",
    "    [100,200,150,300], #product1\n",
    "    [50,60,40,80],     #product2\n",
    "    [300,400,350,500], #product3\n",
    "    [200,250,220,270], #product4\n",
    "    [80,90,70,100]     #product5\n",
    "])\n",
    "a[:,3]"
   ]
  },
  {
   "cell_type": "code",
   "execution_count": 15,
   "id": "39b6bb29",
   "metadata": {},
   "outputs": [
    {
     "data": {
      "text/plain": [
       "array([[100, 200],\n",
       "       [ 50,  60],\n",
       "       [300, 400]])"
      ]
     },
     "execution_count": 15,
     "metadata": {},
     "output_type": "execute_result"
    }
   ],
   "source": [
    "a= np.array([\n",
    "    [100,200,150,300], #product1\n",
    "    [50,60,40,80],     #product2\n",
    "    [300,400,350,500], #product3\n",
    "    [200,250,220,270], #product4\n",
    "    [80,90,70,100]     #product5\n",
    "])\n",
    "a[0:3,0:2]"
   ]
  },
  {
   "cell_type": "code",
   "execution_count": 16,
   "id": "5d4de003",
   "metadata": {},
   "outputs": [
    {
     "data": {
      "text/plain": [
       "array([[220, 270],\n",
       "       [ 70, 100]])"
      ]
     },
     "execution_count": 16,
     "metadata": {},
     "output_type": "execute_result"
    }
   ],
   "source": [
    "a= np.array([\n",
    "    [100,200,150,300], #product1\n",
    "    [50,60,40,80],     #product2\n",
    "    [300,400,350,500], #product3\n",
    "    [200,250,220,270], #product4\n",
    "    [80,90,70,100]     #product5\n",
    "])\n",
    "a[3:6,2:4]"
   ]
  },
  {
   "cell_type": "code",
   "execution_count": 17,
   "id": "dc9813a0",
   "metadata": {},
   "outputs": [
    {
     "data": {
      "text/plain": [
       "array([[100]])"
      ]
     },
     "execution_count": 17,
     "metadata": {},
     "output_type": "execute_result"
    }
   ],
   "source": [
    "a= np.array([\n",
    "    [100,200,150,300], #product1\n",
    "    [50,60,40,80],     #product2\n",
    "    [300,400,350,500], #product3\n",
    "    [200,250,220,270], #product4\n",
    "    [80,90,70,100]     #product5\n",
    "])\n",
    "a[4:6,3:4]"
   ]
  },
  {
   "cell_type": "code",
   "execution_count": 18,
   "id": "ea314f32",
   "metadata": {},
   "outputs": [
    {
     "name": "stdout",
     "output_type": "stream",
     "text": [
      "[[100 200 150 300]\n",
      " [ 50  60  40 100]\n",
      " [300 400 350 500]\n",
      " [200 250 220 270]\n",
      " [ 80  90  70 100]]\n"
     ]
    }
   ],
   "source": [
    "a= np.array([\n",
    "    [100,200,150,300], #product1\n",
    "    [50,60,40,80],     #product2\n",
    "    [300,400,350,500], #product3\n",
    "    [200,250,220,270], #product4\n",
    "    [80,90,70,100]     #product5\n",
    "])\n",
    "a[1,3]=100\n",
    "print(a)\n"
   ]
  },
  {
   "cell_type": "code",
   "execution_count": 19,
   "id": "6485d3d1",
   "metadata": {},
   "outputs": [
    {
     "data": {
      "text/plain": [
       "220"
      ]
     },
     "execution_count": 19,
     "metadata": {},
     "output_type": "execute_result"
    }
   ],
   "source": [
    "a= np.array([\n",
    "    [100,200,150,300], #product1\n",
    "    [50,60,40,80],     #product2\n",
    "    [300,400,350,500], #product3\n",
    "    [200,250,220,270], #product4\n",
    "    [80,90,70,100]     #product5\n",
    "])\n",
    "a[0:0]\n",
    "a[3,2]"
   ]
  },
  {
   "cell_type": "code",
   "execution_count": 21,
   "id": "4cc8d9ce",
   "metadata": {},
   "outputs": [
    {
     "data": {
      "text/plain": [
       "array([100, 220])"
      ]
     },
     "execution_count": 21,
     "metadata": {},
     "output_type": "execute_result"
    }
   ],
   "source": [
    "a= np.array([\n",
    "    [100,200,150,300], #product1\n",
    "    [50,60,40,80],     #product2\n",
    "    [300,400,350,500], #product3\n",
    "    [200,250,220,270], #product4\n",
    "    [80,90,70,100]     #product5\n",
    "])\n",
    "stock_level=a[[0,3],[0,2]]\n",
    "stock_level"
   ]
  },
  {
   "cell_type": "code",
   "execution_count": null,
   "id": "41444c74",
   "metadata": {},
   "outputs": [],
   "source": []
  }
 ],
 "metadata": {
  "kernelspec": {
   "display_name": "Python 3 (ipykernel)",
   "language": "python",
   "name": "python3"
  },
  "language_info": {
   "codemirror_mode": {
    "name": "ipython",
    "version": 3
   },
   "file_extension": ".py",
   "mimetype": "text/x-python",
   "name": "python",
   "nbconvert_exporter": "python",
   "pygments_lexer": "ipython3",
   "version": "3.11.4"
  }
 },
 "nbformat": 4,
 "nbformat_minor": 5
}
